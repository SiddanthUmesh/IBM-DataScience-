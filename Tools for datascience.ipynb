{
 "cells": [
  {
   "cell_type": "markdown",
   "id": "9f5f7244-92bb-4a35-8a44-20136514e201",
   "metadata": {},
   "source": [
    "# My Jupyter Notebook on IBM Watson Studio"
   ]
  },
  {
   "cell_type": "markdown",
   "id": "3fb92299-a432-4918-965a-a83c701c07f0",
   "metadata": {},
   "source": [
    "**Siddanth Umesh**\n",
    "\n",
    "Data Analyst"
   ]
  },
  {
   "cell_type": "markdown",
   "id": "b7d7dc35-6e09-4a0d-bb97-27ce39917e6b",
   "metadata": {},
   "source": [
    "*I am interested in data science because I want to help healthcare industry and become data scientist*"
   ]
  },
  {
   "cell_type": "markdown",
   "id": "23b96ff4-b53e-4186-be74-e2ee71c30d1c",
   "metadata": {},
   "source": [
    "### The following code will display today's date"
   ]
  },
  {
   "cell_type": "code",
   "execution_count": 7,
   "id": "88b22701-3263-4e8e-8134-87a8f4c2c3b3",
   "metadata": {},
   "outputs": [
    {
     "name": "stdout",
     "output_type": "stream",
     "text": [
      "Today's date: 2023-01-08\n"
     ]
    }
   ],
   "source": [
    "from datetime import date\n",
    "today = date.today()\n",
    "print(\"Today's date:\",today)"
   ]
  },
  {
   "cell_type": "markdown",
   "id": "b1ef6938-a700-4b0d-8382-71a963c8244e",
   "metadata": {},
   "source": [
    "- One\n",
    "- Two\n",
    "- Three\n",
    "- Four\n",
    "- Five\n",
    "\n",
    "\n",
    "> The army followed them through many of the beautiful castel\n",
    "\n",
    "~~Year 2022~~\n",
    "\n"
   ]
  },
  {
   "cell_type": "code",
   "execution_count": null,
   "id": "d30d2058-feba-4d6f-a314-e6a9b392d6ec",
   "metadata": {},
   "outputs": [],
   "source": []
  }
 ],
 "metadata": {
  "kernelspec": {
   "display_name": "Python",
   "language": "python",
   "name": "conda-env-python-py"
  },
  "language_info": {
   "codemirror_mode": {
    "name": "ipython",
    "version": 3
   },
   "file_extension": ".py",
   "mimetype": "text/x-python",
   "name": "python",
   "nbconvert_exporter": "python",
   "pygments_lexer": "ipython3",
   "version": "3.7.12"
  }
 },
 "nbformat": 4,
 "nbformat_minor": 5
}
